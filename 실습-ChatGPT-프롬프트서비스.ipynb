{
 "cells": [
  {
   "cell_type": "markdown",
   "id": "f1cd1cd2",
   "metadata": {},
   "source": [
    "## openai 관련 설정"
   ]
  },
  {
   "cell_type": "markdown",
   "id": "c0a27f19",
   "metadata": {},
   "source": [
    "**API KEY 발급 방법**\n",
    "- API KEY 신청 주소\n",
    "- https://beta.openai.com/ 회원 가입 후\n",
    "- https://beta.openai.com/account/api-keys\n",
    "- create new key"
   ]
  },
  {
   "cell_type": "code",
   "execution_count": null,
   "id": "6997d38c",
   "metadata": {},
   "outputs": [],
   "source": [
    "# openai 설치 코드\n",
    "# !pip install openai"
   ]
  },
  {
   "cell_type": "code",
   "execution_count": null,
   "id": "272aa7f3",
   "metadata": {},
   "outputs": [],
   "source": [
    "import openai\n",
    "\n",
    "openai.api_key = \"OPEN API 키 입력\""
   ]
  },
  {
   "cell_type": "markdown",
   "id": "71f653b0",
   "metadata": {},
   "source": [
    "## 주제와 지시사항을 선정"
   ]
  },
  {
   "cell_type": "markdown",
   "id": "884379e5",
   "metadata": {},
   "source": [
    "`주제`를 선정합니다."
   ]
  },
  {
   "cell_type": "code",
   "execution_count": null,
   "id": "8d48f9f6",
   "metadata": {},
   "outputs": [],
   "source": [
    "city = \"New York\"\n",
    "topic = f\"Top 10 Restaurants you must visit when traveling to {city}\"\n",
    "category = \"travel\"\n",
    "print(topic)"
   ]
  },
  {
   "cell_type": "markdown",
   "id": "58be036f",
   "metadata": {},
   "source": [
    "세부 `지시사항`을 입력합니다.\n",
    "- https://translate.google.com/"
   ]
  },
  {
   "cell_type": "code",
   "execution_count": null,
   "id": "249f643a",
   "metadata": {},
   "outputs": [],
   "source": [
    "# 프롬프트 (내용 수정 가능)\n",
    "prompt = f'''\n",
    "Write blog posts in markdown format.\n",
    "Write the theme of your blog as \"{topic}\".\n",
    "Highlight, bold, or italicize important words or sentences.\n",
    "Please include the restaurant's address, menu recommendations and other helpful information(opening and closing hours) as a list style.\n",
    "Please make the entire blog less than 10 minutes long.\n",
    "The audience of this article is 20-40 years old.\n",
    "Create several hashtags and add them only at the end of the line.\n",
    "Add a summary of the entire article at the beginning of the blog post.\n",
    "'''"
   ]
  },
  {
   "cell_type": "markdown",
   "id": "780e5027",
   "metadata": {},
   "source": [
    "## chatgpt api로 블로그 주제와 지시문을 전달하여 글을 생성"
   ]
  },
  {
   "cell_type": "code",
   "execution_count": null,
   "id": "5bb8bbbc",
   "metadata": {},
   "outputs": [],
   "source": [
    "def generate_answer(prompt):\n",
    "    # 모델 엔진 선택\n",
    "    model_engine = \"text-davinci-003\"\n",
    "\n",
    "    # 맥스 토큰\n",
    "    max_tokens = 2048\n",
    "\n",
    "    # ChatGPT 요청 \n",
    "    completion = openai.Completion.create(\n",
    "        engine=model_engine,   \n",
    "        prompt=prompt,          # 프롬프트\n",
    "        max_tokens=max_tokens,  # 최대 단어수\n",
    "        temperature=0.3,        # creativity\n",
    "        top_p=1,\n",
    "        frequency_penalty=0,\n",
    "        presence_penalty=0\n",
    "    )\n",
    "    return completion"
   ]
  },
  {
   "cell_type": "markdown",
   "id": "d12e53a3",
   "metadata": {},
   "source": [
    "결과를 전달 받아 출력합니다."
   ]
  },
  {
   "cell_type": "code",
   "execution_count": null,
   "id": "3ab83d58",
   "metadata": {
    "scrolled": false
   },
   "outputs": [],
   "source": [
    "response = generate_answer(prompt)\n",
    "\n",
    "# 생성된 글 출력\n",
    "print(response.choices[0].text)"
   ]
  }
 ],
 "metadata": {
  "kernelspec": {
   "display_name": "Python 3 (ipykernel)",
   "language": "python",
   "name": "python3"
  },
  "language_info": {
   "codemirror_mode": {
    "name": "ipython",
    "version": 3
   },
   "file_extension": ".py",
   "mimetype": "text/x-python",
   "name": "python",
   "nbconvert_exporter": "python",
   "pygments_lexer": "ipython3",
   "version": "3.8.16"
  }
 },
 "nbformat": 4,
 "nbformat_minor": 5
}

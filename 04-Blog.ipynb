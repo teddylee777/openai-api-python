{
 "cells": [
  {
   "cell_type": "markdown",
   "id": "f1cd1cd2",
   "metadata": {},
   "source": [
    "## openai 관련 설정"
   ]
  },
  {
   "cell_type": "markdown",
   "id": "c0a27f19",
   "metadata": {},
   "source": [
    "**API KEY 발급 방법**\n",
    "- API KEY 신청 주소\n",
    "- https://beta.openai.com/ 회원 가입 후\n",
    "- https://beta.openai.com/account/api-keys\n",
    "- create new key"
   ]
  },
  {
   "cell_type": "code",
   "execution_count": null,
   "id": "6997d38c",
   "metadata": {},
   "outputs": [],
   "source": [
    "# openai 설치 코드\n",
    "# !pip install openai"
   ]
  },
  {
   "cell_type": "code",
   "execution_count": null,
   "id": "272aa7f3",
   "metadata": {},
   "outputs": [],
   "source": [
    "import openai\n",
    "\n",
    "openai.api_key = \"OPEN API 키 입력\""
   ]
  },
  {
   "cell_type": "markdown",
   "id": "71f653b0",
   "metadata": {},
   "source": [
    "## 주제와 지시사항을 선정"
   ]
  },
  {
   "cell_type": "markdown",
   "id": "884379e5",
   "metadata": {},
   "source": [
    "`주제`를 선정합니다."
   ]
  },
  {
   "cell_type": "code",
   "execution_count": null,
   "id": "8d48f9f6",
   "metadata": {},
   "outputs": [],
   "source": [
    "city = \"New York\"\n",
    "topic = f\"Top 10 Restaurants you must visit when traveling to {city}\"\n",
    "category = \"travel\"\n",
    "print(topic)"
   ]
  },
  {
   "cell_type": "markdown",
   "id": "58be036f",
   "metadata": {},
   "source": [
    "세부 `지시사항`을 입력합니다.\n",
    "- https://translate.google.com/"
   ]
  },
  {
   "cell_type": "code",
   "execution_count": null,
   "id": "249f643a",
   "metadata": {},
   "outputs": [],
   "source": [
    "# 프롬프트 (내용 수정 가능)\n",
    "prompt = f'''\n",
    "Write blog posts in markdown format.\n",
    "Write the theme of your blog as \"{topic}\".\n",
    "Highlight, bold, or italicize important words or sentences.\n",
    "Please include the restaurant's address, menu recommendations and other helpful information(opening and closing hours) as a list style.\n",
    "Please make the entire blog less than 10 minutes long.\n",
    "The audience of this article is 20-40 years old.\n",
    "Create several hashtags and add them only at the end of the line.\n",
    "Add a summary of the entire article at the beginning of the blog post.\n",
    "'''"
   ]
  },
  {
   "cell_type": "markdown",
   "id": "780e5027",
   "metadata": {},
   "source": [
    "## chatgpt api로 블로그 주제와 지시문을 전달하여 글을 생성"
   ]
  },
  {
   "cell_type": "code",
   "execution_count": null,
   "id": "5bb8bbbc",
   "metadata": {},
   "outputs": [],
   "source": [
    "def generate_blog(topic, prompt):\n",
    "    # 모델 엔진 선택\n",
    "    model_engine = \"text-davinci-003\"\n",
    "\n",
    "    # 맥스 토큰\n",
    "    max_tokens = 2048\n",
    "\n",
    "    # 블로그 생성\n",
    "    completion = openai.Completion.create(\n",
    "        engine=model_engine,\n",
    "        prompt=prompt,\n",
    "        max_tokens=max_tokens,\n",
    "        temperature=0.3,      # creativity\n",
    "        top_p=1,\n",
    "        frequency_penalty=0,\n",
    "        presence_penalty=0\n",
    "    )\n",
    "    return completion"
   ]
  },
  {
   "cell_type": "markdown",
   "id": "d12e53a3",
   "metadata": {},
   "source": [
    "결과를 전달 받아 출력합니다."
   ]
  },
  {
   "cell_type": "code",
   "execution_count": null,
   "id": "3ab83d58",
   "metadata": {
    "scrolled": false
   },
   "outputs": [],
   "source": [
    "response = generate_blog(topic, prompt)\n",
    "# 생성된 글 출력\n",
    "print(response.choices[0].text)"
   ]
  },
  {
   "cell_type": "markdown",
   "id": "540b9088",
   "metadata": {},
   "source": [
    "## 해시태그 추출"
   ]
  },
  {
   "cell_type": "code",
   "execution_count": null,
   "id": "22518a7b",
   "metadata": {},
   "outputs": [],
   "source": [
    "import re\n",
    "\n",
    "hashtag_pattern = r'(#+[a-zA-Z0-9(_)]{1,})'\n",
    "\n",
    "re.findall(hashtag_pattern, response['choices'][0]['text'])"
   ]
  },
  {
   "cell_type": "markdown",
   "id": "16929d3c",
   "metadata": {},
   "source": [
    "해시태그를 `태그화` 하기 위하여 다음과 같이 문자열 형태로 변경합니다."
   ]
  },
  {
   "cell_type": "code",
   "execution_count": null,
   "id": "7ea44a78",
   "metadata": {},
   "outputs": [],
   "source": [
    "hashtags = [w[1:] for w in re.findall(hashtag_pattern, response['choices'][0]['text'])]\n",
    "tag_string = \"\"\n",
    "for w in hashtags:\n",
    "    tag_string += f'{w}, '\n",
    "tag_string"
   ]
  },
  {
   "cell_type": "code",
   "execution_count": null,
   "id": "751222ea",
   "metadata": {},
   "outputs": [],
   "source": [
    "tag_string = re.sub(r'[^a-zA-Z, ]', '', tag_string)\n",
    "tag_string = tag_string.strip()[:-1]\n",
    "tag_string"
   ]
  },
  {
   "cell_type": "markdown",
   "id": "cf1f697d",
   "metadata": {},
   "source": [
    "## 마크다운 형식의 블로그 글 생성"
   ]
  },
  {
   "cell_type": "markdown",
   "id": "ade32efa",
   "metadata": {},
   "source": [
    "아래는 블로그의 `헤더` 입니다. 블로그 발행시 적용할 옵션을 지정합니다."
   ]
  },
  {
   "cell_type": "code",
   "execution_count": null,
   "id": "f3dc7ff2",
   "metadata": {},
   "outputs": [],
   "source": [
    "page_head = f'''---\n",
    "layout: single\n",
    "title:  \"{topic}\"\n",
    "categories: {category}\n",
    "tag: [{tag_string}]\n",
    "toc: false\n",
    "author_profile: false\n",
    "sidebar:\n",
    "    nav: \"counts\"\n",
    "---\n",
    "'''\n",
    "print(page_head)"
   ]
  },
  {
   "cell_type": "code",
   "execution_count": null,
   "id": "33b337a3",
   "metadata": {},
   "outputs": [],
   "source": [
    "# 첫 줄은 타이틀(제목)과 겹치기 때문에 제거하도록 합니다.\n",
    "body = '\\n'.join(response['choices'][0]['text'].strip().split('\\n')[1:])"
   ]
  },
  {
   "cell_type": "markdown",
   "id": "7e150c4d",
   "metadata": {},
   "source": [
    "`헤더` + `블로그 본문` 을 결합하여 최종 블로그 글을 완성합니다."
   ]
  },
  {
   "cell_type": "code",
   "execution_count": null,
   "id": "59ce70cd",
   "metadata": {
    "scrolled": false
   },
   "outputs": [],
   "source": [
    "output = page_head + body\n",
    "print(output)"
   ]
  },
  {
   "cell_type": "markdown",
   "id": "b037a019",
   "metadata": {},
   "source": [
    "## 블로그 `.md` 파일명에 기입할 날짜 형식을 생성"
   ]
  },
  {
   "cell_type": "code",
   "execution_count": null,
   "id": "0e6a85f3",
   "metadata": {},
   "outputs": [],
   "source": [
    "import os\n",
    "from datetime import datetime, timedelta\n",
    "\n",
    "# 어제 일자 생성\n",
    "yesterday = datetime.now() - timedelta(days=1)\n",
    "yesterday"
   ]
  },
  {
   "cell_type": "markdown",
   "id": "1cedc5c0",
   "metadata": {},
   "source": [
    "블로그 파일명에 입력할 `날짜 형식`을 위한 처리를 수행합니다."
   ]
  },
  {
   "cell_type": "code",
   "execution_count": null,
   "id": "6ce64de2",
   "metadata": {},
   "outputs": [],
   "source": [
    "timestring = yesterday.strftime('%Y-%m-%d')\n",
    "timestring"
   ]
  },
  {
   "cell_type": "markdown",
   "id": "d7f2929f",
   "metadata": {},
   "source": [
    "파일명을 생성합니다.\n",
    "- 여기서 `날짜` + `블로그제목` 형식으로 공백 없이 파일명을 생성합니다. "
   ]
  },
  {
   "cell_type": "code",
   "execution_count": null,
   "id": "b9e46fe5",
   "metadata": {},
   "outputs": [],
   "source": [
    "filename = f\"{timestring}-{'-'.join(topic.lower().split())}.md\"\n",
    "filename"
   ]
  },
  {
   "cell_type": "markdown",
   "id": "75194209",
   "metadata": {},
   "source": [
    "## 생성한 블로그를 github pages 경로에 생성"
   ]
  },
  {
   "cell_type": "markdown",
   "id": "9332c9e8",
   "metadata": {},
   "source": [
    "블로그의 `_posts`가 위치한 절대 경로를 지정합니다."
   ]
  },
  {
   "cell_type": "code",
   "execution_count": null,
   "id": "3dfb6468",
   "metadata": {},
   "outputs": [],
   "source": [
    "# github pages 주소의 _posts 절대 경로 지정\n",
    "blog_directory = r\"블로그_root_폴더/_posts\""
   ]
  },
  {
   "cell_type": "markdown",
   "id": "49773da7",
   "metadata": {},
   "source": [
    "`블로그 경로` + `파일 이름` 으로 마크다운 파일을 저장할 전체 경로를 생성합니다."
   ]
  },
  {
   "cell_type": "code",
   "execution_count": null,
   "id": "6568348f",
   "metadata": {},
   "outputs": [],
   "source": [
    "# 파일 이름 생성\n",
    "filepath = os.path.join(blog_directory, filename)\n",
    "filepath"
   ]
  },
  {
   "cell_type": "markdown",
   "id": "31fb2684",
   "metadata": {},
   "source": [
    "마지막으로 파일에 마크다운으로 작성된 블로그 글을 쓰고 **저장**합니다."
   ]
  },
  {
   "cell_type": "code",
   "execution_count": null,
   "id": "33adf068",
   "metadata": {},
   "outputs": [],
   "source": [
    "with open(filepath, 'w') as f:\n",
    "    f.write(output)\n",
    "    f.close()"
   ]
  }
 ],
 "metadata": {
  "kernelspec": {
   "display_name": "Python 3 (ipykernel)",
   "language": "python",
   "name": "python3"
  },
  "language_info": {
   "codemirror_mode": {
    "name": "ipython",
    "version": 3
   },
   "file_extension": ".py",
   "mimetype": "text/x-python",
   "name": "python",
   "nbconvert_exporter": "python",
   "pygments_lexer": "ipython3",
   "version": "3.8.13"
  }
 },
 "nbformat": 4,
 "nbformat_minor": 5
}
